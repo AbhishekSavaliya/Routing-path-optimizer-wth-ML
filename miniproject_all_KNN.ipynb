{
  "nbformat": 4,
  "nbformat_minor": 0,
  "metadata": {
    "colab": {
      "name": "miniproject_all_KNN.ipynb",
      "provenance": [],
      "collapsed_sections": []
    },
    "kernelspec": {
      "name": "python3",
      "display_name": "Python 3"
    }
  },
  "cells": [
    {
      "cell_type": "code",
      "metadata": {
        "id": "Vm1UXLpz-uHD"
      },
      "source": [
        "import pandas as pd\n",
        "\n",
        "main_headers = ['sNo','sPort','rxPkts','rxBytes','rxError','txPkts','txBytes','txError','portSpeed','portStat','linkStat'] \n",
        "final_header = [] \n",
        "for i in range(1,6):\n",
        "  for k in range(4):\n",
        "    for j in main_headers:\n",
        "      final_header.append(str(i)+str(k)+j)\n",
        "final_header.extend(['d11','d12','d13','d14','d21','d22','d23','d25','d31','d32','d33','d34','d35','d41','d43','d44','d45','d52','d53','d54','d55','y'])\n",
        "#print(len(final_header))\n",
        "#print(final_header)\n",
        "\n",
        "\n",
        "df = pd.read_csv('alldata.csv',names=final_header)\n",
        "#print(df.shape)\n",
        "df.head(3)\n",
        "\n",
        "\n",
        "import numpy as np\n",
        "\n",
        "### droping unusefull columns\n",
        "errors_0_cols = []\n",
        "delay_0_cols = []\n",
        "stats_cols = []\n",
        "for i in df.columns:\n",
        "  if 'Error' in i:\n",
        "    errors_0_cols.append(i)\n",
        "  elif len(i) == 3 and 'd' in i and i[1]==i[2]:\n",
        "    delay_0_cols.append(i)\n",
        "  elif 'portStat' in i or 'linkStat' in i:\n",
        "    stats_cols.append(i)\n",
        "#print(errors_0_cols)\n",
        "#print(delay_0_cols)\n",
        "#print(stats_cols)\n",
        "\n",
        "\n",
        "sum_errors = df[errors_0_cols].values\n",
        "sum_delays = df[delay_0_cols].values\n",
        "#print(sum_errors.shape)\n",
        "#print(sum_errors.sum())\n",
        "#print(sum_delays.sum())\n",
        "\n",
        "delay_0_cols.extend(stats_cols)\n",
        "errors_0_cols.extend(delay_0_cols)\n",
        "#print(len(errors_0_cols))\n",
        "\n",
        "\n",
        "df.drop(errors_0_cols,axis=1,inplace=True)\n",
        "df.shape\n",
        "\n",
        "\n",
        "X = df.drop('y',axis=1).values\n",
        "#print(X.shape)\n",
        "y = df['y'].values\n",
        "#print(y.shape)\n",
        "\n",
        "from sklearn.model_selection import train_test_split\n",
        "\n",
        "X_train, X_test, y_train, y_test = train_test_split(X,y,\n",
        "                                                    stratify=y,\n",
        "                                                    random_state=0)\n"
      ],
      "execution_count": null,
      "outputs": []
    },
    {
      "cell_type": "code",
      "metadata": {
        "id": "BgorAqsM-3L-",
        "outputId": "c3540e26-4e14-4425-cfe0-7b8909955925",
        "colab": {
          "base_uri": "https://localhost:8080/",
          "height": 51
        }
      },
      "source": [
        "from sklearn.neighbors import KNeighborsClassifier\n",
        "from sklearn.model_selection import GridSearchCV\n",
        "from sklearn.pipeline import make_pipeline\n",
        "from sklearn.preprocessing import StandardScaler\n",
        "\n",
        "param_grid = {'kneighborsclassifier__n_neighbors': range(1, 10)}\n",
        "knn_pipe = make_pipeline(StandardScaler(), KNeighborsClassifier())\n",
        "grid = GridSearchCV(knn_pipe, param_grid, cv=10)\n",
        "grid.fit(X_train, y_train)\n",
        "print(grid.best_params_)\n",
        "print(grid.score(X_test, y_test))"
      ],
      "execution_count": null,
      "outputs": [
        {
          "output_type": "stream",
          "text": [
            "{'kneighborsclassifier__n_neighbors': 1}\n",
            "0.918918918918919\n"
          ],
          "name": "stdout"
        }
      ]
    },
    {
      "cell_type": "code",
      "metadata": {
        "id": "wLBTqOP1-6Y4",
        "outputId": "f0a90881-63b3-4b89-e3cb-315a50ccc3f6",
        "colab": {
          "base_uri": "https://localhost:8080/",
          "height": 86
        }
      },
      "source": [
        "from sklearn.metrics import precision_recall_fscore_support\n",
        "\n",
        "y_pred = grid.predict(X_test)\n",
        "print('=========================== KNN =================================')\n",
        "print(precision_recall_fscore_support(y_test, y_pred, average='macro'))\n",
        "print(precision_recall_fscore_support(y_test, y_pred, average='micro'))\n",
        "print(precision_recall_fscore_support(y_test, y_pred, average='weighted'))"
      ],
      "execution_count": null,
      "outputs": [
        {
          "output_type": "stream",
          "text": [
            "=========================== KNN =================================\n",
            "(0.9230063156957584, 0.9185377136077708, 0.9196748909164789, None)\n",
            "(0.918918918918919, 0.918918918918919, 0.918918918918919, None)\n",
            "(0.9229623379392496, 0.918918918918919, 0.919813875968918, None)\n"
          ],
          "name": "stdout"
        }
      ]
    }
  ]
}